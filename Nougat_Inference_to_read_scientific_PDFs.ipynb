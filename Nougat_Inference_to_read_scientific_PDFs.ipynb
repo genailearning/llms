{
 "cells": [
  {
   "cell_type": "markdown",
   "metadata": {},
   "source": [
    "This notebook is strongly inspired by the HF TF boss, Niels Rogge: https://github.com/NielsRogge/Transformers-Tutorials/tree/master/Nougat\n",
    "\n",
    "Step 1: Set-Up Environment"
   ]
  },
  {
   "cell_type": "code",
   "execution_count": null,
   "metadata": {
    "vscode": {
     "languageId": "plaintext"
    }
   },
   "outputs": [],
   "source": [
    "!pip install -q pymupdf python-Levenshtein nltk\n",
    "!pip install -q git+https://github.com/huggingface/transformers.git"
   ]
  },
  {
   "cell_type": "markdown",
   "metadata": {},
   "source": [
    "Step 2: Load Model and ProcessorStep"
   ]
  },
  {
   "cell_type": "code",
   "execution_count": null,
   "metadata": {
    "vscode": {
     "languageId": "plaintext"
    }
   },
   "outputs": [],
   "source": [
    "\n",
    "from transformers import AutoProcessor, VisionEncoderDecoderModel\n",
    "import torch\n",
    "\n",
    "# Load the Nougat model and processor from the hub\n",
    "processor = AutoProcessor.from_pretrained(\"facebook/nougat-small\")\n",
    "model = VisionEncoderDecoderModel.from_pretrained(\"facebook/nougat-small\")"
   ]
  },
  {
   "cell_type": "code",
   "execution_count": null,
   "metadata": {
    "vscode": {
     "languageId": "plaintext"
    }
   },
   "outputs": [],
   "source": [
    "%%capture\n",
    "device = \"cuda\" if torch.cuda.is_available() else \"cpu\"\n",
    "model.to(device)"
   ]
  },
  {
   "cell_type": "code",
   "execution_count": null,
   "metadata": {
    "vscode": {
     "languageId": "plaintext"
    }
   },
   "outputs": [],
   "source": [
    "from typing import Optional, List\n",
    "import io\n",
    "import fitz\n",
    "from pathlib import Path\n",
    "\n",
    "def rasterize_paper(\n",
    "    pdf: Path,\n",
    "    outpath: Optional[Path] = None,\n",
    "    dpi: int = 96,\n",
    "    return_pil=False,\n",
    "    pages=None,\n",
    ") -> Optional[List[io.BytesIO]]:\n",
    "    \"\"\"\n",
    "    Rasterize a PDF file to PNG images.\n",
    "\n",
    "    Args:\n",
    "        pdf (Path): The path to the PDF file.\n",
    "        outpath (Optional[Path], optional): The output directory. If None, the PIL images will be returned instead. Defaults to None.\n",
    "        dpi (int, optional): The output DPI. Defaults to 96.\n",
    "        return_pil (bool, optional): Whether to return the PIL images instead of writing them to disk. Defaults to False.\n",
    "        pages (Optional[List[int]], optional): The pages to rasterize. If None, all pages will be rasterized. Defaults to None.\n",
    "\n",
    "    Returns:\n",
    "        Optional[List[io.BytesIO]]: The PIL images if `return_pil` is True, otherwise None.\n",
    "    \"\"\"\n",
    "\n",
    "    pillow_images = []\n",
    "    if outpath is None:\n",
    "        return_pil = True\n",
    "    try:\n",
    "        if isinstance(pdf, (str, Path)):\n",
    "            pdf = fitz.open(pdf)\n",
    "        if pages is None:\n",
    "            pages = range(len(pdf))\n",
    "        for i in pages:\n",
    "            page_bytes: bytes = pdf[i].get_pixmap(dpi=dpi).pil_tobytes(format=\"PNG\")\n",
    "            if return_pil:\n",
    "                pillow_images.append(io.BytesIO(page_bytes))\n",
    "            else:\n",
    "                with (outpath / (\"%02d.png\" % (i + 1))).open(\"wb\") as f:\n",
    "                    f.write(page_bytes)\n",
    "    except Exception:\n",
    "        pass\n",
    "    if return_pil:\n",
    "        return pillow_images"
   ]
  },
  {
   "cell_type": "markdown",
   "metadata": {},
   "source": [
    "Step 3: Load PDF"
   ]
  },
  {
   "cell_type": "code",
   "execution_count": null,
   "metadata": {
    "vscode": {
     "languageId": "plaintext"
    }
   },
   "outputs": [],
   "source": [
    "from huggingface_hub import hf_hub_download\n",
    "from typing import Optional, List\n",
    "import io\n",
    "import fitz\n",
    "from pathlib import Path\n",
    "from PIL import Image\n",
    "\n",
    "filepath = hf_hub_download(repo_id=\"inuwamobarak/random-files\", filename=\"2310.08535.pdf\", repo_type=\"dataset\")\n",
    "\n",
    "images = rasterize_paper(pdf=filepath, return_pil=True)\n",
    "image = Image.open(images[0])\n",
    "image"
   ]
  },
  {
   "cell_type": "markdown",
   "metadata": {},
   "source": [
    "Step 4: Generate Transcription"
   ]
  },
  {
   "cell_type": "code",
   "execution_count": null,
   "metadata": {
    "vscode": {
     "languageId": "plaintext"
    }
   },
   "outputs": [],
   "source": [
    "pixel_values = processor(images=image, return_tensors=\"pt\").pixel_values"
   ]
  },
  {
   "cell_type": "code",
   "execution_count": null,
   "metadata": {
    "vscode": {
     "languageId": "plaintext"
    }
   },
   "outputs": [],
   "source": [
    "from transformers import StoppingCriteria, StoppingCriteriaList\n",
    "from collections import defaultdict\n",
    "\n",
    "class RunningVarTorch:\n",
    "    def __init__(self, L=15, norm=False):\n",
    "        self.values = None\n",
    "        self.L = L\n",
    "        self.norm = norm\n",
    "\n",
    "    def push(self, x: torch.Tensor):\n",
    "        assert x.dim() == 1\n",
    "        if self.values is None:\n",
    "            self.values = x[:, None]\n",
    "        elif self.values.shape[1] < self.L:\n",
    "            self.values = torch.cat((self.values, x[:, None]), 1)\n",
    "        else:\n",
    "            self.values = torch.cat((self.values[:, 1:], x[:, None]), 1)\n",
    "\n",
    "    def variance(self):\n",
    "        if self.values is None:\n",
    "            return\n",
    "        if self.norm:\n",
    "            return torch.var(self.values, 1) / self.values.shape[1]\n",
    "        else:\n",
    "            return torch.var(self.values, 1)\n",
    "\n",
    "\n",
    "class StoppingCriteriaScores(StoppingCriteria):\n",
    "    def __init__(self, threshold: float = 0.015, window_size: int = 200):\n",
    "        super().__init__()\n",
    "        self.threshold = threshold\n",
    "        self.vars = RunningVarTorch(norm=True)\n",
    "        self.varvars = RunningVarTorch(L=window_size)\n",
    "        self.stop_inds = defaultdict(int)\n",
    "        self.stopped = defaultdict(bool)\n",
    "        self.size = 0\n",
    "        self.window_size = window_size\n",
    "\n",
    "    @torch.no_grad()\n",
    "    def __call__(self, input_ids: torch.LongTensor, scores: torch.FloatTensor):\n",
    "        last_scores = scores[-1]\n",
    "        self.vars.push(last_scores.max(1)[0].float().cpu())\n",
    "        self.varvars.push(self.vars.variance())\n",
    "        self.size += 1\n",
    "        if self.size < self.window_size:\n",
    "            return False\n",
    "\n",
    "        varvar = self.varvars.variance()\n",
    "        for b in range(len(last_scores)):\n",
    "            if varvar[b] < self.threshold:\n",
    "                if self.stop_inds[b] > 0 and not self.stopped[b]:\n",
    "                    self.stopped[b] = self.stop_inds[b] >= self.size\n",
    "                else:\n",
    "                    self.stop_inds[b] = int(\n",
    "                        min(max(self.size, 1) * 1.15 + 150 + self.window_size, 4095)\n",
    "                    )\n",
    "            else:\n",
    "                self.stop_inds[b] = 0\n",
    "                self.stopped[b] = False\n",
    "        return all(self.stopped.values()) and len(self.stopped) > 0"
   ]
  },
  {
   "cell_type": "code",
   "execution_count": null,
   "metadata": {
    "vscode": {
     "languageId": "plaintext"
    }
   },
   "outputs": [],
   "source": [
    "outputs = model.generate(\n",
    "    pixel_values.to(device),\n",
    "    min_length=1,\n",
    "    max_length=3584,\n",
    "    bad_words_ids=[[processor.tokenizer.unk_token_id]],\n",
    "    return_dict_in_generate=True,\n",
    "    output_scores=True,\n",
    "    stopping_criteria=StoppingCriteriaList([StoppingCriteriaScores()]),\n",
    ")"
   ]
  },
  {
   "cell_type": "markdown",
   "metadata": {},
   "source": [
    "Step 5: Postprocess"
   ]
  },
  {
   "cell_type": "code",
   "execution_count": null,
   "metadata": {
    "vscode": {
     "languageId": "plaintext"
    }
   },
   "outputs": [],
   "source": [
    "generated = processor.batch_decode(outputs[0], skip_special_tokens=True)[0]\n",
    "\n",
    "generated = processor.post_process_generation(generated, fix_markdown=False)\n",
    "print(generated)"
   ]
  },
  {
   "cell_type": "markdown",
   "metadata": {},
   "source": [
    "Links:\n",
    "https://www.youtube.com/watch?v=XKBU7ROKjaQ&t=111s\n",
    "\n",
    "https://github.com/inuwamobarak/nougat/blob/main/Nougat_Inference_to_read_scientific_PDFs.ipynb\n",
    "\n",
    "https://github.com/NielsRogge/Transformers-Tutorials/\n",
    "\n",
    "https://github.com/inuwamobarak/nougat\n",
    "\n",
    "https://arxiv.org/abs/2310.08535\n",
    "\n",
    "https://arxiv.org/pdf/2308.13418.pdf\n",
    "\n",
    "https://huggingface.co/datasets/inuwamobarak/random-files\n",
    "\n",
    "https://huggingface.co/spaces/ysharma/nougat"
   ]
  }
 ],
 "metadata": {
  "language_info": {
   "name": "python"
  },
  "orig_nbformat": 4
 },
 "nbformat": 4,
 "nbformat_minor": 2
}
